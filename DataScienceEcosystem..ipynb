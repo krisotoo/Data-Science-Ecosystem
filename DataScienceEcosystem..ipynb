{
 "cells": [
  {
   "cell_type": "markdown",
   "id": "24d1d356-ff7b-4ce8-a81f-546c8d962aad",
   "metadata": {},
   "source": [
    "# Data Science Tools and Ecosystem"
   ]
  },
  {
   "cell_type": "markdown",
   "id": "250eefeb-953c-4d1f-ba89-bb0c45605bbb",
   "metadata": {},
   "source": [
    "In this notebook, Data Science Tools and Ecosystem are summarized."
   ]
  },
  {
   "cell_type": "markdown",
   "id": "6fac24ee-2b00-4d74-b675-7d970be3ccd4",
   "metadata": {},
   "source": [
    " __Objectives:__\n",
    "\n",
    " - Popular Languages in Data Science\n",
    " - Data Science Libraries\n",
    " - Data Science Tools\n",
    " - Simple Arithmetic Expressions"
   ]
  },
  {
   "cell_type": "markdown",
   "id": "44a34e49-c1b8-46c6-a2b4-34513fca6fc3",
   "metadata": {},
   "source": [
    "Some of the popular languages that Data Scientists use are:\n",
    "\n",
    "1. Python\n",
    "2. R\n",
    "3. Java\n",
    "4. SQL\n",
    "5. Scala"
   ]
  },
  {
   "cell_type": "markdown",
   "id": "18978d7c-785f-438a-a09c-37c8ddab2fa2",
   "metadata": {},
   "source": [
    "Some of the commonly used libraries used by Data Scientists include:\n",
    "\n",
    "1. Numpy\n",
    "2. Pandas\n",
    "3. Matplotlip\n",
    "4. Seaborn"
   ]
  },
  {
   "cell_type": "markdown",
   "id": "8882976d-8849-4b87-8002-133f02d31950",
   "metadata": {},
   "source": [
    "| Data Science Tools |\n",
    "|--------------------|\n",
    "| Jupyter Notebook |\n",
    "| RStudio |\n",
    "| MySQL |"
   ]
  },
  {
   "cell_type": "markdown",
   "id": "739ea694-96ae-4dca-90fc-df9c6fbdce82",
   "metadata": {},
   "source": [
    "### Below are a few examples of evaluating arithmetic expressions in Python."
   ]
  },
  {
   "cell_type": "code",
   "execution_count": 2,
   "id": "b72d41aa-ca7b-48f7-9afd-cdf7e21f3881",
   "metadata": {},
   "outputs": [
    {
     "data": {
      "text/plain": [
       "17"
      ]
     },
     "execution_count": 2,
     "metadata": {},
     "output_type": "execute_result"
    }
   ],
   "source": [
    "#This a simple arithmetic expression to mutiply then add integers.\n",
    "\n",
    "(3*4)+5"
   ]
  },
  {
   "cell_type": "code",
   "execution_count": 5,
   "id": "517edec0-87dd-47e0-8f54-7bcb30ca589a",
   "metadata": {},
   "outputs": [
    {
     "data": {
      "text/plain": [
       "3"
      ]
     },
     "execution_count": 5,
     "metadata": {},
     "output_type": "execute_result"
    }
   ],
   "source": [
    "#This will convert 200 minutes to hours by dividing by 60.\n",
    "\n",
    "200//60"
   ]
  },
  {
   "cell_type": "markdown",
   "id": "4c73ae64-3b19-4586-b03c-de1cc9aaa6d3",
   "metadata": {},
   "source": [
    "## Author\n",
    "-------------\n",
    "Christian Otoo"
   ]
  }
 ],
 "metadata": {
  "kernelspec": {
   "display_name": "Python [conda env:base] *",
   "language": "python",
   "name": "conda-base-py"
  },
  "language_info": {
   "codemirror_mode": {
    "name": "ipython",
    "version": 3
   },
   "file_extension": ".py",
   "mimetype": "text/x-python",
   "name": "python",
   "nbconvert_exporter": "python",
   "pygments_lexer": "ipython3",
   "version": "3.13.5"
  }
 },
 "nbformat": 4,
 "nbformat_minor": 5
}
